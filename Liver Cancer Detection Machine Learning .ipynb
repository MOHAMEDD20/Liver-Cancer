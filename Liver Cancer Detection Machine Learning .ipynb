{
 "cells": [
  {
   "cell_type": "markdown",
   "metadata": {},
   "source": [
    "**Function and modules for data preparation and visualization**"
   ]
  },
  {
   "cell_type": "code",
   "execution_count": 1,
   "metadata": {
    "id": "b4cGMMTdKyfe"
   },
   "outputs": [],
   "source": [
    "import pandas as pd\n",
    "import numpy as np\n",
    "import matplotlib.pyplot as plt\n",
    "%matplotlib inline\n",
    "import seaborn as sns\n",
    "from scipy import stats\n",
    "from pandas.plotting import scatter_matrix\n",
    "import matplotlib\n",
    "import sklearn\n",
    "\n",
    "import warnings\n",
    "warnings.filterwarnings('ignore')\n",
    "import re\n",
    "import os"
   ]
  },
  {
   "cell_type": "markdown",
   "metadata": {},
   "source": [
    "**Function and modules for the supervised Classification models**"
   ]
  },
  {
   "cell_type": "code",
   "execution_count": 2,
   "metadata": {},
   "outputs": [],
   "source": [
    "from sklearn.ensemble import RandomForestClassifier\n",
    "from sklearn.svm import SVC\n",
    "from sklearn.neighbors import KNeighborsClassifier"
   ]
  },
  {
   "cell_type": "markdown",
   "metadata": {},
   "source": [
    "**Function and modules for data analysis and model evaluation**"
   ]
  },
  {
   "cell_type": "code",
   "execution_count": 3,
   "metadata": {},
   "outputs": [],
   "source": [
    "from sklearn.model_selection import GridSearchCV\n",
    "from sklearn.model_selection import train_test_split\n",
    "from sklearn.model_selection import StratifiedKFold,ShuffleSplit\n",
    "from sklearn.model_selection import KFold\n",
    "from sklearn.model_selection import cross_val_score\n",
    "from sklearn.metrics import classification_report,confusion_matrix,accuracy_score\n",
    "from sklearn import model_selection\n",
    "from sklearn.preprocessing import OrdinalEncoder\n",
    "from sklearn.preprocessing import MinMaxScaler\n",
    "\n",
    "from sklearn.metrics import log_loss\n",
    "from sklearn.metrics import roc_auc_score\n",
    "from sklearn.metrics import precision_score\n",
    "from sklearn.metrics import recall_score\n",
    "from sklearn.metrics import f1_score\n",
    "from sklearn.metrics import matthews_corrcoef"
   ]
  },
  {
   "cell_type": "markdown",
   "metadata": {
    "id": "39wrIBQcw4ob"
   },
   "source": [
    "**Read inputs & outputs (Data)**"
   ]
  },
  {
   "cell_type": "code",
   "execution_count": 4,
   "metadata": {
    "id": "J_QfTht6sQtx"
   },
   "outputs": [],
   "source": [
    "df=pd.read_csv('Liver_GSE76427.csv',)"
   ]
  },
  {
   "cell_type": "code",
   "execution_count": 5,
   "metadata": {},
   "outputs": [
    {
     "data": {
      "text/html": [
       "<div>\n",
       "<style scoped>\n",
       "    .dataframe tbody tr th:only-of-type {\n",
       "        vertical-align: middle;\n",
       "    }\n",
       "\n",
       "    .dataframe tbody tr th {\n",
       "        vertical-align: top;\n",
       "    }\n",
       "\n",
       "    .dataframe thead th {\n",
       "        text-align: right;\n",
       "    }\n",
       "</style>\n",
       "<table border=\"1\" class=\"dataframe\">\n",
       "  <thead>\n",
       "    <tr style=\"text-align: right;\">\n",
       "      <th></th>\n",
       "      <th>samples</th>\n",
       "      <th>type</th>\n",
       "      <th>ILMN_1762337</th>\n",
       "      <th>ILMN_2055271</th>\n",
       "      <th>ILMN_1736007</th>\n",
       "      <th>ILMN_2383229</th>\n",
       "      <th>ILMN_1806310</th>\n",
       "      <th>ILMN_1779670</th>\n",
       "      <th>ILMN_1653355</th>\n",
       "      <th>ILMN_1717783</th>\n",
       "      <th>...</th>\n",
       "      <th>ILMN_2348512</th>\n",
       "      <th>ILMN_1743643</th>\n",
       "      <th>ILMN_1794932</th>\n",
       "      <th>ILMN_1723439</th>\n",
       "      <th>ILMN_1656676</th>\n",
       "      <th>ILMN_2371169</th>\n",
       "      <th>ILMN_1701875</th>\n",
       "      <th>ILMN_1786396</th>\n",
       "      <th>ILMN_1653618</th>\n",
       "      <th>ILMN_2137536</th>\n",
       "    </tr>\n",
       "  </thead>\n",
       "  <tbody>\n",
       "    <tr>\n",
       "      <th>0</th>\n",
       "      <td>PT19</td>\n",
       "      <td>HCC</td>\n",
       "      <td>6.483652</td>\n",
       "      <td>7.464696</td>\n",
       "      <td>6.429637</td>\n",
       "      <td>12.643356</td>\n",
       "      <td>13.045297</td>\n",
       "      <td>8.258473</td>\n",
       "      <td>6.814521</td>\n",
       "      <td>6.218216</td>\n",
       "      <td>...</td>\n",
       "      <td>7.400918</td>\n",
       "      <td>8.038800</td>\n",
       "      <td>6.588653</td>\n",
       "      <td>6.321273</td>\n",
       "      <td>10.675905</td>\n",
       "      <td>8.626528</td>\n",
       "      <td>10.007827</td>\n",
       "      <td>8.392028</td>\n",
       "      <td>9.602142</td>\n",
       "      <td>9.047503</td>\n",
       "    </tr>\n",
       "    <tr>\n",
       "      <th>1</th>\n",
       "      <td>PT62</td>\n",
       "      <td>HCC</td>\n",
       "      <td>6.675508</td>\n",
       "      <td>7.168535</td>\n",
       "      <td>6.823190</td>\n",
       "      <td>12.892783</td>\n",
       "      <td>13.163113</td>\n",
       "      <td>7.917084</td>\n",
       "      <td>6.730343</td>\n",
       "      <td>6.187852</td>\n",
       "      <td>...</td>\n",
       "      <td>7.330587</td>\n",
       "      <td>8.657990</td>\n",
       "      <td>6.674280</td>\n",
       "      <td>6.420554</td>\n",
       "      <td>11.143268</td>\n",
       "      <td>9.073550</td>\n",
       "      <td>10.258200</td>\n",
       "      <td>8.381577</td>\n",
       "      <td>9.754209</td>\n",
       "      <td>9.182012</td>\n",
       "    </tr>\n",
       "    <tr>\n",
       "      <th>2</th>\n",
       "      <td>PT21</td>\n",
       "      <td>HCC</td>\n",
       "      <td>6.515373</td>\n",
       "      <td>7.634200</td>\n",
       "      <td>7.664664</td>\n",
       "      <td>12.657452</td>\n",
       "      <td>12.706686</td>\n",
       "      <td>7.637631</td>\n",
       "      <td>6.801475</td>\n",
       "      <td>6.319660</td>\n",
       "      <td>...</td>\n",
       "      <td>7.146508</td>\n",
       "      <td>8.196419</td>\n",
       "      <td>6.582036</td>\n",
       "      <td>6.379465</td>\n",
       "      <td>10.870256</td>\n",
       "      <td>9.788805</td>\n",
       "      <td>10.973116</td>\n",
       "      <td>8.427726</td>\n",
       "      <td>9.189877</td>\n",
       "      <td>8.803280</td>\n",
       "    </tr>\n",
       "    <tr>\n",
       "      <th>3</th>\n",
       "      <td>PT63</td>\n",
       "      <td>HCC</td>\n",
       "      <td>6.545082</td>\n",
       "      <td>7.624268</td>\n",
       "      <td>6.833015</td>\n",
       "      <td>12.119426</td>\n",
       "      <td>12.309892</td>\n",
       "      <td>7.426821</td>\n",
       "      <td>6.993757</td>\n",
       "      <td>6.345142</td>\n",
       "      <td>...</td>\n",
       "      <td>7.077401</td>\n",
       "      <td>7.656076</td>\n",
       "      <td>6.469087</td>\n",
       "      <td>6.376006</td>\n",
       "      <td>11.226305</td>\n",
       "      <td>9.905931</td>\n",
       "      <td>11.385620</td>\n",
       "      <td>8.042074</td>\n",
       "      <td>9.321682</td>\n",
       "      <td>8.658508</td>\n",
       "    </tr>\n",
       "    <tr>\n",
       "      <th>4</th>\n",
       "      <td>PT46</td>\n",
       "      <td>HCC</td>\n",
       "      <td>6.487748</td>\n",
       "      <td>7.568733</td>\n",
       "      <td>6.526021</td>\n",
       "      <td>12.582264</td>\n",
       "      <td>12.780629</td>\n",
       "      <td>7.654119</td>\n",
       "      <td>6.767617</td>\n",
       "      <td>6.188435</td>\n",
       "      <td>...</td>\n",
       "      <td>7.078663</td>\n",
       "      <td>8.270020</td>\n",
       "      <td>6.572853</td>\n",
       "      <td>6.334645</td>\n",
       "      <td>10.899285</td>\n",
       "      <td>9.078503</td>\n",
       "      <td>10.219356</td>\n",
       "      <td>7.566979</td>\n",
       "      <td>8.941648</td>\n",
       "      <td>8.368998</td>\n",
       "    </tr>\n",
       "    <tr>\n",
       "      <th>...</th>\n",
       "      <td>...</td>\n",
       "      <td>...</td>\n",
       "      <td>...</td>\n",
       "      <td>...</td>\n",
       "      <td>...</td>\n",
       "      <td>...</td>\n",
       "      <td>...</td>\n",
       "      <td>...</td>\n",
       "      <td>...</td>\n",
       "      <td>...</td>\n",
       "      <td>...</td>\n",
       "      <td>...</td>\n",
       "      <td>...</td>\n",
       "      <td>...</td>\n",
       "      <td>...</td>\n",
       "      <td>...</td>\n",
       "      <td>...</td>\n",
       "      <td>...</td>\n",
       "      <td>...</td>\n",
       "      <td>...</td>\n",
       "      <td>...</td>\n",
       "    </tr>\n",
       "    <tr>\n",
       "      <th>160</th>\n",
       "      <td>ANTT84</td>\n",
       "      <td>normal</td>\n",
       "      <td>6.601354</td>\n",
       "      <td>7.506110</td>\n",
       "      <td>7.365103</td>\n",
       "      <td>13.388869</td>\n",
       "      <td>13.899814</td>\n",
       "      <td>9.209282</td>\n",
       "      <td>6.942029</td>\n",
       "      <td>6.192877</td>\n",
       "      <td>...</td>\n",
       "      <td>7.326511</td>\n",
       "      <td>8.395377</td>\n",
       "      <td>6.687637</td>\n",
       "      <td>6.320202</td>\n",
       "      <td>12.584115</td>\n",
       "      <td>8.930516</td>\n",
       "      <td>9.335457</td>\n",
       "      <td>9.385184</td>\n",
       "      <td>8.841834</td>\n",
       "      <td>9.766702</td>\n",
       "    </tr>\n",
       "    <tr>\n",
       "      <th>161</th>\n",
       "      <td>ANTT14</td>\n",
       "      <td>normal</td>\n",
       "      <td>6.595213</td>\n",
       "      <td>6.969642</td>\n",
       "      <td>6.739490</td>\n",
       "      <td>13.486136</td>\n",
       "      <td>13.706575</td>\n",
       "      <td>10.217207</td>\n",
       "      <td>6.616688</td>\n",
       "      <td>6.326452</td>\n",
       "      <td>...</td>\n",
       "      <td>7.114267</td>\n",
       "      <td>8.711911</td>\n",
       "      <td>7.019267</td>\n",
       "      <td>6.407307</td>\n",
       "      <td>12.688633</td>\n",
       "      <td>8.805502</td>\n",
       "      <td>9.364516</td>\n",
       "      <td>9.827440</td>\n",
       "      <td>8.898209</td>\n",
       "      <td>9.679284</td>\n",
       "    </tr>\n",
       "    <tr>\n",
       "      <th>162</th>\n",
       "      <td>ANTT37</td>\n",
       "      <td>normal</td>\n",
       "      <td>6.665324</td>\n",
       "      <td>7.265585</td>\n",
       "      <td>7.640608</td>\n",
       "      <td>13.477023</td>\n",
       "      <td>13.814035</td>\n",
       "      <td>9.734760</td>\n",
       "      <td>6.783744</td>\n",
       "      <td>6.391265</td>\n",
       "      <td>...</td>\n",
       "      <td>7.331266</td>\n",
       "      <td>8.563802</td>\n",
       "      <td>6.654143</td>\n",
       "      <td>6.368024</td>\n",
       "      <td>12.698204</td>\n",
       "      <td>8.766173</td>\n",
       "      <td>9.281295</td>\n",
       "      <td>8.991965</td>\n",
       "      <td>9.124838</td>\n",
       "      <td>9.406808</td>\n",
       "    </tr>\n",
       "    <tr>\n",
       "      <th>163</th>\n",
       "      <td>ANTT82</td>\n",
       "      <td>normal</td>\n",
       "      <td>6.683772</td>\n",
       "      <td>6.799760</td>\n",
       "      <td>6.834131</td>\n",
       "      <td>13.404657</td>\n",
       "      <td>13.840479</td>\n",
       "      <td>9.491236</td>\n",
       "      <td>6.701240</td>\n",
       "      <td>6.211523</td>\n",
       "      <td>...</td>\n",
       "      <td>7.401761</td>\n",
       "      <td>8.878578</td>\n",
       "      <td>6.600538</td>\n",
       "      <td>6.486632</td>\n",
       "      <td>12.207204</td>\n",
       "      <td>8.964309</td>\n",
       "      <td>9.443194</td>\n",
       "      <td>9.512072</td>\n",
       "      <td>9.059498</td>\n",
       "      <td>9.879122</td>\n",
       "    </tr>\n",
       "    <tr>\n",
       "      <th>164</th>\n",
       "      <td>ANTT25</td>\n",
       "      <td>normal</td>\n",
       "      <td>6.534901</td>\n",
       "      <td>6.983576</td>\n",
       "      <td>7.633424</td>\n",
       "      <td>12.558768</td>\n",
       "      <td>13.027512</td>\n",
       "      <td>8.992176</td>\n",
       "      <td>6.567975</td>\n",
       "      <td>6.334507</td>\n",
       "      <td>...</td>\n",
       "      <td>6.901760</td>\n",
       "      <td>8.236669</td>\n",
       "      <td>6.745111</td>\n",
       "      <td>6.539494</td>\n",
       "      <td>11.361748</td>\n",
       "      <td>9.393996</td>\n",
       "      <td>10.183136</td>\n",
       "      <td>8.915587</td>\n",
       "      <td>9.074503</td>\n",
       "      <td>9.166322</td>\n",
       "    </tr>\n",
       "  </tbody>\n",
       "</table>\n",
       "<p>165 rows × 47324 columns</p>\n",
       "</div>"
      ],
      "text/plain": [
       "    samples    type  ILMN_1762337  ILMN_2055271  ILMN_1736007  ILMN_2383229  \\\n",
       "0      PT19     HCC      6.483652      7.464696      6.429637     12.643356   \n",
       "1      PT62     HCC      6.675508      7.168535      6.823190     12.892783   \n",
       "2      PT21     HCC      6.515373      7.634200      7.664664     12.657452   \n",
       "3      PT63     HCC      6.545082      7.624268      6.833015     12.119426   \n",
       "4      PT46     HCC      6.487748      7.568733      6.526021     12.582264   \n",
       "..      ...     ...           ...           ...           ...           ...   \n",
       "160  ANTT84  normal      6.601354      7.506110      7.365103     13.388869   \n",
       "161  ANTT14  normal      6.595213      6.969642      6.739490     13.486136   \n",
       "162  ANTT37  normal      6.665324      7.265585      7.640608     13.477023   \n",
       "163  ANTT82  normal      6.683772      6.799760      6.834131     13.404657   \n",
       "164  ANTT25  normal      6.534901      6.983576      7.633424     12.558768   \n",
       "\n",
       "     ILMN_1806310  ILMN_1779670  ILMN_1653355  ILMN_1717783  ...  \\\n",
       "0       13.045297      8.258473      6.814521      6.218216  ...   \n",
       "1       13.163113      7.917084      6.730343      6.187852  ...   \n",
       "2       12.706686      7.637631      6.801475      6.319660  ...   \n",
       "3       12.309892      7.426821      6.993757      6.345142  ...   \n",
       "4       12.780629      7.654119      6.767617      6.188435  ...   \n",
       "..            ...           ...           ...           ...  ...   \n",
       "160     13.899814      9.209282      6.942029      6.192877  ...   \n",
       "161     13.706575     10.217207      6.616688      6.326452  ...   \n",
       "162     13.814035      9.734760      6.783744      6.391265  ...   \n",
       "163     13.840479      9.491236      6.701240      6.211523  ...   \n",
       "164     13.027512      8.992176      6.567975      6.334507  ...   \n",
       "\n",
       "     ILMN_2348512  ILMN_1743643  ILMN_1794932  ILMN_1723439  ILMN_1656676  \\\n",
       "0        7.400918      8.038800      6.588653      6.321273     10.675905   \n",
       "1        7.330587      8.657990      6.674280      6.420554     11.143268   \n",
       "2        7.146508      8.196419      6.582036      6.379465     10.870256   \n",
       "3        7.077401      7.656076      6.469087      6.376006     11.226305   \n",
       "4        7.078663      8.270020      6.572853      6.334645     10.899285   \n",
       "..            ...           ...           ...           ...           ...   \n",
       "160      7.326511      8.395377      6.687637      6.320202     12.584115   \n",
       "161      7.114267      8.711911      7.019267      6.407307     12.688633   \n",
       "162      7.331266      8.563802      6.654143      6.368024     12.698204   \n",
       "163      7.401761      8.878578      6.600538      6.486632     12.207204   \n",
       "164      6.901760      8.236669      6.745111      6.539494     11.361748   \n",
       "\n",
       "     ILMN_2371169  ILMN_1701875  ILMN_1786396  ILMN_1653618  ILMN_2137536  \n",
       "0        8.626528     10.007827      8.392028      9.602142      9.047503  \n",
       "1        9.073550     10.258200      8.381577      9.754209      9.182012  \n",
       "2        9.788805     10.973116      8.427726      9.189877      8.803280  \n",
       "3        9.905931     11.385620      8.042074      9.321682      8.658508  \n",
       "4        9.078503     10.219356      7.566979      8.941648      8.368998  \n",
       "..            ...           ...           ...           ...           ...  \n",
       "160      8.930516      9.335457      9.385184      8.841834      9.766702  \n",
       "161      8.805502      9.364516      9.827440      8.898209      9.679284  \n",
       "162      8.766173      9.281295      8.991965      9.124838      9.406808  \n",
       "163      8.964309      9.443194      9.512072      9.059498      9.879122  \n",
       "164      9.393996     10.183136      8.915587      9.074503      9.166322  \n",
       "\n",
       "[165 rows x 47324 columns]"
      ]
     },
     "execution_count": 5,
     "metadata": {},
     "output_type": "execute_result"
    }
   ],
   "source": [
    "df.dropna()"
   ]
  },
  {
   "cell_type": "code",
   "execution_count": 6,
   "metadata": {},
   "outputs": [
    {
     "data": {
      "text/plain": [
       "0"
      ]
     },
     "execution_count": 6,
     "metadata": {},
     "output_type": "execute_result"
    }
   ],
   "source": [
    "df.type.isnull().sum()"
   ]
  },
  {
   "cell_type": "code",
   "execution_count": 146,
   "metadata": {},
   "outputs": [
    {
     "data": {
      "text/plain": [
       "<AxesSubplot:>"
      ]
     },
     "execution_count": 146,
     "metadata": {},
     "output_type": "execute_result"
    },
    {
     "data": {
      "image/png": "[encoded data removed]",
      "text/plain": [
       "<Figure size 576x396 with 1 Axes>"
      ]
     },
     "metadata": {},
     "output_type": "display_data"
    }
   ],
   "source": [
    "df['type'].value_counts().plot(kind=\"bar\")"
   ]
  },
  {
   "cell_type": "code",
   "execution_count": 7,
   "metadata": {},
   "outputs": [],
   "source": [
    "DF_RM_DUP = df.drop_duplicates()"
   ]
  },
  {
   "cell_type": "code",
   "execution_count": 8,
   "metadata": {},
   "outputs": [],
   "source": [
    "dft=df.drop(columns = ['samples'])"
   ]
  },
  {
   "cell_type": "code",
   "execution_count": 9,
   "metadata": {},
   "outputs": [
    {
     "data": {
      "text/html": [
       "<div>\n",
       "<style scoped>\n",
       "    .dataframe tbody tr th:only-of-type {\n",
       "        vertical-align: middle;\n",
       "    }\n",
       "\n",
       "    .dataframe tbody tr th {\n",
       "        vertical-align: top;\n",
       "    }\n",
       "\n",
       "    .dataframe thead th {\n",
       "        text-align: right;\n",
       "    }\n",
       "</style>\n",
       "<table border=\"1\" class=\"dataframe\">\n",
       "  <thead>\n",
       "    <tr style=\"text-align: right;\">\n",
       "      <th></th>\n",
       "      <th>type</th>\n",
       "      <th>ILMN_1762337</th>\n",
       "      <th>ILMN_2055271</th>\n",
       "      <th>ILMN_1736007</th>\n",
       "      <th>ILMN_2383229</th>\n",
       "      <th>ILMN_1806310</th>\n",
       "      <th>ILMN_1779670</th>\n",
       "      <th>ILMN_1653355</th>\n",
       "      <th>ILMN_1717783</th>\n",
       "      <th>ILMN_1705025</th>\n",
       "      <th>...</th>\n",
       "      <th>ILMN_2348512</th>\n",
       "      <th>ILMN_1743643</th>\n",
       "      <th>ILMN_1794932</th>\n",
       "      <th>ILMN_1723439</th>\n",
       "      <th>ILMN_1656676</th>\n",
       "      <th>ILMN_2371169</th>\n",
       "      <th>ILMN_1701875</th>\n",
       "      <th>ILMN_1786396</th>\n",
       "      <th>ILMN_1653618</th>\n",
       "      <th>ILMN_2137536</th>\n",
       "    </tr>\n",
       "  </thead>\n",
       "  <tbody>\n",
       "    <tr>\n",
       "      <th>0</th>\n",
       "      <td>HCC</td>\n",
       "      <td>6.483652</td>\n",
       "      <td>7.464696</td>\n",
       "      <td>6.429637</td>\n",
       "      <td>12.643356</td>\n",
       "      <td>13.045297</td>\n",
       "      <td>8.258473</td>\n",
       "      <td>6.814521</td>\n",
       "      <td>6.218216</td>\n",
       "      <td>6.698026</td>\n",
       "      <td>...</td>\n",
       "      <td>7.400918</td>\n",
       "      <td>8.038800</td>\n",
       "      <td>6.588653</td>\n",
       "      <td>6.321273</td>\n",
       "      <td>10.675905</td>\n",
       "      <td>8.626528</td>\n",
       "      <td>10.007827</td>\n",
       "      <td>8.392028</td>\n",
       "      <td>9.602142</td>\n",
       "      <td>9.047503</td>\n",
       "    </tr>\n",
       "    <tr>\n",
       "      <th>1</th>\n",
       "      <td>HCC</td>\n",
       "      <td>6.675508</td>\n",
       "      <td>7.168535</td>\n",
       "      <td>6.823190</td>\n",
       "      <td>12.892783</td>\n",
       "      <td>13.163113</td>\n",
       "      <td>7.917084</td>\n",
       "      <td>6.730343</td>\n",
       "      <td>6.187852</td>\n",
       "      <td>6.683403</td>\n",
       "      <td>...</td>\n",
       "      <td>7.330587</td>\n",
       "      <td>8.657990</td>\n",
       "      <td>6.674280</td>\n",
       "      <td>6.420554</td>\n",
       "      <td>11.143268</td>\n",
       "      <td>9.073550</td>\n",
       "      <td>10.258200</td>\n",
       "      <td>8.381577</td>\n",
       "      <td>9.754209</td>\n",
       "      <td>9.182012</td>\n",
       "    </tr>\n",
       "    <tr>\n",
       "      <th>2</th>\n",
       "      <td>HCC</td>\n",
       "      <td>6.515373</td>\n",
       "      <td>7.634200</td>\n",
       "      <td>7.664664</td>\n",
       "      <td>12.657452</td>\n",
       "      <td>12.706686</td>\n",
       "      <td>7.637631</td>\n",
       "      <td>6.801475</td>\n",
       "      <td>6.319660</td>\n",
       "      <td>6.554877</td>\n",
       "      <td>...</td>\n",
       "      <td>7.146508</td>\n",
       "      <td>8.196419</td>\n",
       "      <td>6.582036</td>\n",
       "      <td>6.379465</td>\n",
       "      <td>10.870256</td>\n",
       "      <td>9.788805</td>\n",
       "      <td>10.973116</td>\n",
       "      <td>8.427726</td>\n",
       "      <td>9.189877</td>\n",
       "      <td>8.803280</td>\n",
       "    </tr>\n",
       "    <tr>\n",
       "      <th>3</th>\n",
       "      <td>HCC</td>\n",
       "      <td>6.545082</td>\n",
       "      <td>7.624268</td>\n",
       "      <td>6.833015</td>\n",
       "      <td>12.119426</td>\n",
       "      <td>12.309892</td>\n",
       "      <td>7.426821</td>\n",
       "      <td>6.993757</td>\n",
       "      <td>6.345142</td>\n",
       "      <td>6.568781</td>\n",
       "      <td>...</td>\n",
       "      <td>7.077401</td>\n",
       "      <td>7.656076</td>\n",
       "      <td>6.469087</td>\n",
       "      <td>6.376006</td>\n",
       "      <td>11.226305</td>\n",
       "      <td>9.905931</td>\n",
       "      <td>11.385620</td>\n",
       "      <td>8.042074</td>\n",
       "      <td>9.321682</td>\n",
       "      <td>8.658508</td>\n",
       "    </tr>\n",
       "    <tr>\n",
       "      <th>4</th>\n",
       "      <td>HCC</td>\n",
       "      <td>6.487748</td>\n",
       "      <td>7.568733</td>\n",
       "      <td>6.526021</td>\n",
       "      <td>12.582264</td>\n",
       "      <td>12.780629</td>\n",
       "      <td>7.654119</td>\n",
       "      <td>6.767617</td>\n",
       "      <td>6.188435</td>\n",
       "      <td>6.724583</td>\n",
       "      <td>...</td>\n",
       "      <td>7.078663</td>\n",
       "      <td>8.270020</td>\n",
       "      <td>6.572853</td>\n",
       "      <td>6.334645</td>\n",
       "      <td>10.899285</td>\n",
       "      <td>9.078503</td>\n",
       "      <td>10.219356</td>\n",
       "      <td>7.566979</td>\n",
       "      <td>8.941648</td>\n",
       "      <td>8.368998</td>\n",
       "    </tr>\n",
       "  </tbody>\n",
       "</table>\n",
       "<p>5 rows × 47323 columns</p>\n",
       "</div>"
      ],
      "text/plain": [
       "  type  ILMN_1762337  ILMN_2055271  ILMN_1736007  ILMN_2383229  ILMN_1806310  \\\n",
       "0  HCC      6.483652      7.464696      6.429637     12.643356     13.045297   \n",
       "1  HCC      6.675508      7.168535      6.823190     12.892783     13.163113   \n",
       "2  HCC      6.515373      7.634200      7.664664     12.657452     12.706686   \n",
       "3  HCC      6.545082      7.624268      6.833015     12.119426     12.309892   \n",
       "4  HCC      6.487748      7.568733      6.526021     12.582264     12.780629   \n",
       "\n",
       "   ILMN_1779670  ILMN_1653355  ILMN_1717783  ILMN_1705025  ...  ILMN_2348512  \\\n",
       "0      8.258473      6.814521      6.218216      6.698026  ...      7.400918   \n",
       "1      7.917084      6.730343      6.187852      6.683403  ...      7.330587   \n",
       "2      7.637631      6.801475      6.319660      6.554877  ...      7.146508   \n",
       "3      7.426821      6.993757      6.345142      6.568781  ...      7.077401   \n",
       "4      7.654119      6.767617      6.188435      6.724583  ...      7.078663   \n",
       "\n",
       "   ILMN_1743643  ILMN_1794932  ILMN_1723439  ILMN_1656676  ILMN_2371169  \\\n",
       "0      8.038800      6.588653      6.321273     10.675905      8.626528   \n",
       "1      8.657990      6.674280      6.420554     11.143268      9.073550   \n",
       "2      8.196419      6.582036      6.379465     10.870256      9.788805   \n",
       "3      7.656076      6.469087      6.376006     11.226305      9.905931   \n",
       "4      8.270020      6.572853      6.334645     10.899285      9.078503   \n",
       "\n",
       "   ILMN_1701875  ILMN_1786396  ILMN_1653618  ILMN_2137536  \n",
       "0     10.007827      8.392028      9.602142      9.047503  \n",
       "1     10.258200      8.381577      9.754209      9.182012  \n",
       "2     10.973116      8.427726      9.189877      8.803280  \n",
       "3     11.385620      8.042074      9.321682      8.658508  \n",
       "4     10.219356      7.566979      8.941648      8.368998  \n",
       "\n",
       "[5 rows x 47323 columns]"
      ]
     },
     "execution_count": 9,
     "metadata": {},
     "output_type": "execute_result"
    }
   ],
   "source": [
    "dft.head()"
   ]
  },
  {
   "cell_type": "code",
   "execution_count": 10,
   "metadata": {},
   "outputs": [],
   "source": [
    "ord_enc = OrdinalEncoder()\n",
    "dft[\"type\"] = ord_enc.fit_transform(dft[[\"type\"]])"
   ]
  },
  {
   "cell_type": "code",
   "execution_count": 11,
   "metadata": {},
   "outputs": [],
   "source": [
    "X=dft.drop(columns = ['type'])"
   ]
  },
  {
   "cell_type": "code",
   "execution_count": 148,
   "metadata": {},
   "outputs": [
    {
     "data": {
      "text/html": [
       "<div>\n",
       "<style scoped>\n",
       "    .dataframe tbody tr th:only-of-type {\n",
       "        vertical-align: middle;\n",
       "    }\n",
       "\n",
       "    .dataframe tbody tr th {\n",
       "        vertical-align: top;\n",
       "    }\n",
       "\n",
       "    .dataframe thead th {\n",
       "        text-align: right;\n",
       "    }\n",
       "</style>\n",
       "<table border=\"1\" class=\"dataframe\">\n",
       "  <thead>\n",
       "    <tr style=\"text-align: right;\">\n",
       "      <th></th>\n",
       "      <th>type</th>\n",
       "    </tr>\n",
       "  </thead>\n",
       "  <tbody>\n",
       "    <tr>\n",
       "      <th>0</th>\n",
       "      <td>0.0</td>\n",
       "    </tr>\n",
       "    <tr>\n",
       "      <th>1</th>\n",
       "      <td>0.0</td>\n",
       "    </tr>\n",
       "    <tr>\n",
       "      <th>2</th>\n",
       "      <td>0.0</td>\n",
       "    </tr>\n",
       "    <tr>\n",
       "      <th>3</th>\n",
       "      <td>0.0</td>\n",
       "    </tr>\n",
       "    <tr>\n",
       "      <th>4</th>\n",
       "      <td>0.0</td>\n",
       "    </tr>\n",
       "    <tr>\n",
       "      <th>...</th>\n",
       "      <td>...</td>\n",
       "    </tr>\n",
       "    <tr>\n",
       "      <th>160</th>\n",
       "      <td>1.0</td>\n",
       "    </tr>\n",
       "    <tr>\n",
       "      <th>161</th>\n",
       "      <td>1.0</td>\n",
       "    </tr>\n",
       "    <tr>\n",
       "      <th>162</th>\n",
       "      <td>1.0</td>\n",
       "    </tr>\n",
       "    <tr>\n",
       "      <th>163</th>\n",
       "      <td>1.0</td>\n",
       "    </tr>\n",
       "    <tr>\n",
       "      <th>164</th>\n",
       "      <td>1.0</td>\n",
       "    </tr>\n",
       "  </tbody>\n",
       "</table>\n",
       "<p>165 rows × 1 columns</p>\n",
       "</div>"
      ],
      "text/plain": [
       "     type\n",
       "0     0.0\n",
       "1     0.0\n",
       "2     0.0\n",
       "3     0.0\n",
       "4     0.0\n",
       "..    ...\n",
       "160   1.0\n",
       "161   1.0\n",
       "162   1.0\n",
       "163   1.0\n",
       "164   1.0\n",
       "\n",
       "[165 rows x 1 columns]"
      ]
     },
     "execution_count": 148,
     "metadata": {},
     "output_type": "execute_result"
    }
   ],
   "source": [
    "y=dft['type']\n",
    "y=pd.DataFrame(y)\n",
    "y"
   ]
  },
  {
   "cell_type": "code",
   "execution_count": 13,
   "metadata": {},
   "outputs": [
    {
     "data": {
      "text/plain": [
       "<AxesSubplot:xlabel='type'>"
      ]
     },
     "execution_count": 13,
     "metadata": {},
     "output_type": "execute_result"
    },
    {
     "data": {
      "image/png": "[encoded data removed]",
      "text/plain": [
       "<Figure size 432x288 with 1 Axes>"
      ]
     },
     "metadata": {
      "needs_background": "light"
     },
     "output_type": "display_data"
    }
   ],
   "source": [
    "y.value_counts().plot(kind=\"bar\")"
   ]
  },
  {
   "cell_type": "markdown",
   "metadata": {},
   "source": [
    "# work with features as full data & classes or target for it's output"
   ]
  },
  {
   "cell_type": "code",
   "execution_count": 14,
   "metadata": {},
   "outputs": [],
   "source": [
    "kfold=KFold(n_splits=10, random_state=42, shuffle=True)"
   ]
  },
  {
   "cell_type": "markdown",
   "metadata": {},
   "source": [
    "# GridSearch Implementation "
   ]
  },
  {
   "cell_type": "markdown",
   "metadata": {},
   "source": [
    "## Knn"
   ]
  },
  {
   "cell_type": "code",
   "execution_count": 15,
   "metadata": {},
   "outputs": [],
   "source": [
    "kn_classifier = KNeighborsClassifier()"
   ]
  },
  {
   "cell_type": "code",
   "execution_count": 16,
   "metadata": {},
   "outputs": [],
   "source": [
    "param_grid_kn = {   \n",
    "    'n_neighbors':[1,3,5,7,9,11,13,15],\n",
    "    'weights':['uniform','distance'],\n",
    "    'leaf_size':[10,30,],\n",
    "}"
   ]
  },
  {
   "cell_type": "code",
   "execution_count": 17,
   "metadata": {},
   "outputs": [],
   "source": [
    "kn_tuned =GridSearchCV(kn_classifier,param_grid=param_grid_kn, cv=kfold, verbose=2, n_jobs=4,scoring =\"accuracy\")"
   ]
  },
  {
   "cell_type": "code",
   "execution_count": 18,
   "metadata": {},
   "outputs": [
    {
     "name": "stdout",
     "output_type": "stream",
     "text": [
      "Fitting 10 folds for each of 32 candidates, totalling 320 fits\n"
     ]
    },
    {
     "data": {
      "text/plain": [
       "GridSearchCV(cv=KFold(n_splits=10, random_state=42, shuffle=True),\n",
       "             estimator=KNeighborsClassifier(), n_jobs=4,\n",
       "             param_grid={'leaf_size': [10, 30],\n",
       "                         'n_neighbors': [1, 3, 5, 7, 9, 11, 13, 15],\n",
       "                         'weights': ['uniform', 'distance']},\n",
       "             scoring='accuracy', verbose=2)"
      ]
     },
     "execution_count": 18,
     "metadata": {},
     "output_type": "execute_result"
    }
   ],
   "source": [
    "kn_tuned.fit(X, y.values.ravel())"
   ]
  },
  {
   "cell_type": "code",
   "execution_count": 19,
   "metadata": {},
   "outputs": [
    {
     "name": "stdout",
     "output_type": "stream",
     "text": [
      "0.9341911764705882\n",
      "{'leaf_size': 10, 'n_neighbors': 5, 'weights': 'uniform'}\n"
     ]
    }
   ],
   "source": [
    "print(kn_tuned.best_score_)\n",
    "print(kn_tuned.best_params_)"
   ]
  },
  {
   "cell_type": "markdown",
   "metadata": {},
   "source": [
    "## SVC"
   ]
  },
  {
   "cell_type": "code",
   "execution_count": 20,
   "metadata": {},
   "outputs": [],
   "source": [
    "svc_classifier = SVC()"
   ]
  },
  {
   "cell_type": "code",
   "execution_count": 21,
   "metadata": {},
   "outputs": [],
   "source": [
    "param_grid_svm = {\n",
    "    'C': [1,5,10,15,20,.1,30],\n",
    "    'gamma': [ 'scale','auto'],\n",
    "    'kernel': ['rbf','linear'],\n",
    "}"
   ]
  },
  {
   "cell_type": "code",
   "execution_count": 22,
   "metadata": {},
   "outputs": [],
   "source": [
    "svc_tuned =GridSearchCV(svc_classifier,param_grid=param_grid_svm,verbose=2, n_jobs=4,cv=5,scoring =\"accuracy\"  )"
   ]
  },
  {
   "cell_type": "code",
   "execution_count": 23,
   "metadata": {},
   "outputs": [
    {
     "name": "stdout",
     "output_type": "stream",
     "text": [
      "Fitting 5 folds for each of 28 candidates, totalling 140 fits\n"
     ]
    },
    {
     "data": {
      "text/plain": [
       "GridSearchCV(cv=5, estimator=SVC(), n_jobs=4,\n",
       "             param_grid={'C': [1, 5, 10, 15, 20, 0.1, 30],\n",
       "                         'gamma': ['scale', 'auto'],\n",
       "                         'kernel': ['rbf', 'linear']},\n",
       "             scoring='accuracy', verbose=2)"
      ]
     },
     "execution_count": 23,
     "metadata": {},
     "output_type": "execute_result"
    }
   ],
   "source": [
    "svc_tuned.fit(X,  y.values.ravel())"
   ]
  },
  {
   "cell_type": "code",
   "execution_count": 24,
   "metadata": {},
   "outputs": [
    {
     "name": "stdout",
     "output_type": "stream",
     "text": [
      "0.9515151515151515\n",
      "{'C': 1, 'gamma': 'scale', 'kernel': 'rbf'}\n"
     ]
    }
   ],
   "source": [
    "print(svc_tuned.best_score_)\n",
    "print(svc_tuned.best_params_)"
   ]
  },
  {
   "cell_type": "markdown",
   "metadata": {},
   "source": [
    "# RF"
   ]
  },
  {
   "cell_type": "code",
   "execution_count": 25,
   "metadata": {},
   "outputs": [],
   "source": [
    "rf_classifier = RandomForestClassifier()"
   ]
  },
  {
   "cell_type": "code",
   "execution_count": 26,
   "metadata": {},
   "outputs": [],
   "source": [
    "param_grid_rf = {\n",
    "    'n_estimators': [20,40,60,80,100,],\n",
    "    'max_depth':[1,3,5,None],\n",
    "    'criterion':['gini','entropy',],\n",
    "    'max_features':['sqrt','log2',],\n",
    "    'random_state':[42],\n",
    "}"
   ]
  },
  {
   "cell_type": "code",
   "execution_count": 27,
   "metadata": {},
   "outputs": [],
   "source": [
    "rf_tuned = GridSearchCV(\n",
    "    rf_classifier, param_grid=param_grid_rf, cv=kfold, verbose=2, n_jobs=4,scoring =\"accuracy\" )"
   ]
  },
  {
   "cell_type": "code",
   "execution_count": 28,
   "metadata": {},
   "outputs": [
    {
     "name": "stdout",
     "output_type": "stream",
     "text": [
      "Fitting 10 folds for each of 80 candidates, totalling 800 fits\n"
     ]
    },
    {
     "data": {
      "text/plain": [
       "GridSearchCV(cv=KFold(n_splits=10, random_state=42, shuffle=True),\n",
       "             estimator=RandomForestClassifier(), n_jobs=4,\n",
       "             param_grid={'criterion': ['gini', 'entropy'],\n",
       "                         'max_depth': [1, 3, 5, None],\n",
       "                         'max_features': ['sqrt', 'log2'],\n",
       "                         'n_estimators': [20, 40, 60, 80, 100],\n",
       "                         'random_state': [42]},\n",
       "             scoring='accuracy', verbose=2)"
      ]
     },
     "execution_count": 28,
     "metadata": {},
     "output_type": "execute_result"
    }
   ],
   "source": [
    "rf_tuned.fit(X,  y.values.ravel())"
   ]
  },
  {
   "cell_type": "code",
   "execution_count": 29,
   "metadata": {},
   "outputs": [
    {
     "name": "stdout",
     "output_type": "stream",
     "text": [
      "0.9573529411764706\n",
      "{'criterion': 'gini', 'max_depth': 1, 'max_features': 'sqrt', 'n_estimators': 20, 'random_state': 42}\n"
     ]
    }
   ],
   "source": [
    "print(rf_tuned.best_score_)\n",
    "print(rf_tuned.best_params_)"
   ]
  },
  {
   "cell_type": "markdown",
   "metadata": {},
   "source": [
    "**Train Test Split :**\n",
    "\n",
    "**we trained the features split percentages (Train: 65%, Test: 35%)**"
   ]
  },
  {
   "cell_type": "code",
   "execution_count": 30,
   "metadata": {},
   "outputs": [],
   "source": [
    "X_train, X_test, Y_train, Y_test = train_test_split(X, y, test_size=0.35, random_state=42,)"
   ]
  },
  {
   "cell_type": "markdown",
   "metadata": {},
   "source": [
    "## KNN"
   ]
  },
  {
   "cell_type": "code",
   "execution_count": 31,
   "metadata": {},
   "outputs": [],
   "source": [
    "knn=KNeighborsClassifier()"
   ]
  },
  {
   "cell_type": "code",
   "execution_count": 32,
   "metadata": {},
   "outputs": [
    {
     "data": {
      "text/plain": [
       "KNeighborsClassifier()"
      ]
     },
     "execution_count": 32,
     "metadata": {},
     "output_type": "execute_result"
    }
   ],
   "source": [
    "knn.fit(X_train,Y_train)"
   ]
  },
  {
   "cell_type": "code",
   "execution_count": 33,
   "metadata": {},
   "outputs": [
    {
     "data": {
      "text/plain": [
       "0.9532710280373832"
      ]
     },
     "execution_count": 33,
     "metadata": {},
     "output_type": "execute_result"
    }
   ],
   "source": [
    "knn.score(X_train, Y_train) #Train Score"
   ]
  },
  {
   "cell_type": "code",
   "execution_count": 34,
   "metadata": {},
   "outputs": [
    {
     "data": {
      "text/plain": [
       "0.8620689655172413"
      ]
     },
     "execution_count": 34,
     "metadata": {},
     "output_type": "execute_result"
    }
   ],
   "source": [
    "KNNaccuracy=knn.score(X_test, Y_test) #Test Score\n",
    "KNNaccuracy"
   ]
  },
  {
   "cell_type": "code",
   "execution_count": 35,
   "metadata": {},
   "outputs": [
    {
     "name": "stdout",
     "output_type": "stream",
     "text": [
      "              precision    recall  f1-score   support\n",
      "\n",
      "         0.0       0.97      0.83      0.89        41\n",
      "         1.0       0.70      0.94      0.80        17\n",
      "\n",
      "    accuracy                           0.86        58\n",
      "   macro avg       0.83      0.89      0.85        58\n",
      "weighted avg       0.89      0.86      0.87        58\n",
      "\n"
     ]
    }
   ],
   "source": [
    "from sklearn.metrics import classification_report\n",
    "y_pred=knn.predict(X_test)\n",
    "print(classification_report(Y_test, y_pred))"
   ]
  },
  {
   "cell_type": "markdown",
   "metadata": {},
   "source": [
    "## svm"
   ]
  },
  {
   "cell_type": "code",
   "execution_count": 36,
   "metadata": {},
   "outputs": [],
   "source": [
    "svc =SVC()"
   ]
  },
  {
   "cell_type": "code",
   "execution_count": 37,
   "metadata": {},
   "outputs": [
    {
     "data": {
      "text/plain": [
       "SVC()"
      ]
     },
     "execution_count": 37,
     "metadata": {},
     "output_type": "execute_result"
    }
   ],
   "source": [
    "svc.fit(X_train,Y_train)"
   ]
  },
  {
   "cell_type": "code",
   "execution_count": 38,
   "metadata": {},
   "outputs": [
    {
     "data": {
      "text/plain": [
       "0.9626168224299065"
      ]
     },
     "execution_count": 38,
     "metadata": {},
     "output_type": "execute_result"
    }
   ],
   "source": [
    "svc.score(X_train, Y_train) #Train Score"
   ]
  },
  {
   "cell_type": "code",
   "execution_count": 39,
   "metadata": {},
   "outputs": [
    {
     "data": {
      "text/plain": [
       "0.9310344827586207"
      ]
     },
     "execution_count": 39,
     "metadata": {},
     "output_type": "execute_result"
    }
   ],
   "source": [
    "SVCaccuracy=svc.score(X_test, Y_test) #Test Score\n",
    "SVCaccuracy"
   ]
  },
  {
   "cell_type": "code",
   "execution_count": 40,
   "metadata": {},
   "outputs": [
    {
     "name": "stdout",
     "output_type": "stream",
     "text": [
      "              precision    recall  f1-score   support\n",
      "\n",
      "         0.0       0.97      0.93      0.95        41\n",
      "         1.0       0.84      0.94      0.89        17\n",
      "\n",
      "    accuracy                           0.93        58\n",
      "   macro avg       0.91      0.93      0.92        58\n",
      "weighted avg       0.94      0.93      0.93        58\n",
      "\n"
     ]
    }
   ],
   "source": [
    "from sklearn.metrics import classification_report\n",
    "y_pred=svc.predict(X_test)\n",
    "print(classification_report(Y_test, y_pred))"
   ]
  },
  {
   "cell_type": "markdown",
   "metadata": {},
   "source": [
    "## RF"
   ]
  },
  {
   "cell_type": "code",
   "execution_count": 41,
   "metadata": {},
   "outputs": [],
   "source": [
    "rf =RandomForestClassifier()"
   ]
  },
  {
   "cell_type": "code",
   "execution_count": 42,
   "metadata": {},
   "outputs": [
    {
     "data": {
      "text/plain": [
       "RandomForestClassifier()"
      ]
     },
     "execution_count": 42,
     "metadata": {},
     "output_type": "execute_result"
    }
   ],
   "source": [
    "rf.fit(X_train,Y_train)"
   ]
  },
  {
   "cell_type": "code",
   "execution_count": 43,
   "metadata": {},
   "outputs": [
    {
     "data": {
      "text/plain": [
       "1.0"
      ]
     },
     "execution_count": 43,
     "metadata": {},
     "output_type": "execute_result"
    }
   ],
   "source": [
    "rf.score(X_train, Y_train) #Train Score"
   ]
  },
  {
   "cell_type": "code",
   "execution_count": 44,
   "metadata": {},
   "outputs": [
    {
     "data": {
      "text/plain": [
       "0.9482758620689655"
      ]
     },
     "execution_count": 44,
     "metadata": {},
     "output_type": "execute_result"
    }
   ],
   "source": [
    "RFaccuracy=rf.score(X_test, Y_test) #Test Score\n",
    "RFaccuracy"
   ]
  },
  {
   "cell_type": "code",
   "execution_count": 45,
   "metadata": {},
   "outputs": [
    {
     "name": "stdout",
     "output_type": "stream",
     "text": [
      "              precision    recall  f1-score   support\n",
      "\n",
      "         0.0       0.97      0.95      0.96        41\n",
      "         1.0       0.89      0.94      0.91        17\n",
      "\n",
      "    accuracy                           0.95        58\n",
      "   macro avg       0.93      0.95      0.94        58\n",
      "weighted avg       0.95      0.95      0.95        58\n",
      "\n"
     ]
    }
   ],
   "source": [
    "from sklearn.metrics import classification_report\n",
    "y_pred=rf.predict(X_test)\n",
    "print(classification_report(Y_test, y_pred))"
   ]
  },
  {
   "cell_type": "markdown",
   "metadata": {},
   "source": [
    "### Before Feature Selection and Parameters Tuning"
   ]
  },
  {
   "cell_type": "code",
   "execution_count": 46,
   "metadata": {},
   "outputs": [
    {
     "data": {
      "text/plain": [
       "[(0.0, 100.0)]"
      ]
     },
     "execution_count": 46,
     "metadata": {},
     "output_type": "execute_result"
    },
    {
     "data": {
      "image/png": "[encoded data removed]",
      "text/plain": [
       "<Figure size 576x432 with 1 Axes>"
      ]
     },
     "metadata": {},
     "output_type": "display_data"
    }
   ],
   "source": [
    "plt.style.use(\"seaborn\")\n",
    "\n",
    "xl1 = [\"Random Forest Classifier\",  \n",
    "     \"Support Vector Classifier\",\"KNeighbors Classifier \"]\n",
    "\n",
    "yv1 = [RFaccuracy*100, \n",
    "     SVCaccuracy*100,\n",
    "     KNNaccuracy*100,]\n",
    "\n",
    "fig, ax = plt.subplots(figsize=(8,6))\n",
    "sns.barplot(x=xl1,y=yv1, palette=\"crest\");\n",
    "plt.ylabel(\"Model Accuracy\")\n",
    "plt.title(\"Model Comparison - Model Accuracy\", fontsize=16, fontname=\"arial\", y=1);\n",
    "ax.set(ylim=(0, 100))"
   ]
  },
  {
   "cell_type": "markdown",
   "metadata": {
    "id": "uNUgh9SNOOp7"
   },
   "source": [
    "# Feature selection Code :"
   ]
  },
  {
   "cell_type": "code",
   "execution_count": 140,
   "metadata": {},
   "outputs": [],
   "source": [
    "from sklearn.feature_selection import SelectKBest\n",
    "from sklearn.feature_selection import chi2\n",
    "select=SelectKBest(chi2, k=10000)\n",
    "X_train_selected = select.fit_transform(X_train, Y_train)\n",
    "X_test_selected= select.transform(X_test)"
   ]
  },
  {
   "cell_type": "markdown",
   "metadata": {},
   "source": [
    "# Evalutaed models"
   ]
  },
  {
   "cell_type": "markdown",
   "metadata": {},
   "source": [
    "### Random Forest"
   ]
  },
  {
   "cell_type": "code",
   "execution_count": 141,
   "metadata": {},
   "outputs": [],
   "source": [
    "rf_evalutaed =RandomForestClassifier(**rf_tuned.best_params_)"
   ]
  },
  {
   "cell_type": "code",
   "execution_count": 142,
   "metadata": {},
   "outputs": [
    {
     "data": {
      "text/plain": [
       "RandomForestClassifier(max_depth=1, max_features='sqrt', n_estimators=20,\n",
       "                       random_state=42)"
      ]
     },
     "execution_count": 142,
     "metadata": {},
     "output_type": "execute_result"
    }
   ],
   "source": [
    "rf_evalutaed.fit(X_train_selected,Y_train)"
   ]
  },
  {
   "cell_type": "code",
   "execution_count": 143,
   "metadata": {},
   "outputs": [
    {
     "data": {
      "text/plain": [
       "0.9719626168224299"
      ]
     },
     "execution_count": 143,
     "metadata": {},
     "output_type": "execute_result"
    }
   ],
   "source": [
    "rf_evalutaed.score(X_train_selected, Y_train) #Train Score"
   ]
  },
  {
   "cell_type": "code",
   "execution_count": 144,
   "metadata": {},
   "outputs": [
    {
     "data": {
      "text/plain": [
       "0.9655172413793104"
      ]
     },
     "execution_count": 144,
     "metadata": {},
     "output_type": "execute_result"
    }
   ],
   "source": [
    "RFTaccuracy=rf_evalutaed.score(X_test_selected, Y_test) #Test Score\n",
    "RFTaccuracy"
   ]
  },
  {
   "cell_type": "code",
   "execution_count": 145,
   "metadata": {},
   "outputs": [
    {
     "name": "stdout",
     "output_type": "stream",
     "text": [
      "              precision    recall  f1-score   support\n",
      "\n",
      "         0.0       0.98      0.98      0.98        41\n",
      "         1.0       0.94      0.94      0.94        17\n",
      "\n",
      "    accuracy                           0.97        58\n",
      "   macro avg       0.96      0.96      0.96        58\n",
      "weighted avg       0.97      0.97      0.97        58\n",
      "\n"
     ]
    }
   ],
   "source": [
    "from sklearn.metrics import classification_report\n",
    "y_pred=rf_evalutaed.predict(X_test_selected)\n",
    "print(classification_report(Y_test, y_pred))"
   ]
  },
  {
   "cell_type": "markdown",
   "metadata": {},
   "source": [
    "### SVC"
   ]
  },
  {
   "cell_type": "code",
   "execution_count": 110,
   "metadata": {},
   "outputs": [],
   "source": [
    "svc_evalutaed =SVC(**svc_tuned.best_params_)"
   ]
  },
  {
   "cell_type": "code",
   "execution_count": 111,
   "metadata": {},
   "outputs": [
    {
     "data": {
      "text/plain": [
       "SVC(C=1)"
      ]
     },
     "execution_count": 111,
     "metadata": {},
     "output_type": "execute_result"
    }
   ],
   "source": [
    "svc_evalutaed.fit(X_train_selected,Y_train)"
   ]
  },
  {
   "cell_type": "code",
   "execution_count": 112,
   "metadata": {},
   "outputs": [
    {
     "data": {
      "text/plain": [
       "0.9626168224299065"
      ]
     },
     "execution_count": 112,
     "metadata": {},
     "output_type": "execute_result"
    }
   ],
   "source": [
    "svc_evalutaed.score(X_train_selected, Y_train) #Train Score"
   ]
  },
  {
   "cell_type": "code",
   "execution_count": null,
   "metadata": {},
   "outputs": [],
   "source": []
  },
  {
   "cell_type": "code",
   "execution_count": 113,
   "metadata": {},
   "outputs": [
    {
     "data": {
      "text/plain": [
       "0.9310344827586207"
      ]
     },
     "execution_count": 113,
     "metadata": {},
     "output_type": "execute_result"
    }
   ],
   "source": [
    "SVCTaccuracy=svc_evalutaed.score(X_test_selected, Y_test) #Test Score\n",
    "SVCTaccuracy"
   ]
  },
  {
   "cell_type": "code",
   "execution_count": 114,
   "metadata": {},
   "outputs": [
    {
     "name": "stdout",
     "output_type": "stream",
     "text": [
      "[[38  3]\n",
      " [ 1 16]]\n",
      "              precision    recall  f1-score   support\n",
      "\n",
      "         0.0       0.97      0.93      0.95        41\n",
      "         1.0       0.84      0.94      0.89        17\n",
      "\n",
      "    accuracy                           0.93        58\n",
      "   macro avg       0.91      0.93      0.92        58\n",
      "weighted avg       0.94      0.93      0.93        58\n",
      "\n"
     ]
    }
   ],
   "source": [
    "from sklearn.metrics import classification_report\n",
    "y_pred=svc_evalutaed.predict(X_test_selected)\n",
    "print(confusion_matrix(Y_test, y_pred))\n",
    "print(classification_report(Y_test, y_pred))"
   ]
  },
  {
   "cell_type": "markdown",
   "metadata": {},
   "source": [
    "### KNeighbors"
   ]
  },
  {
   "cell_type": "code",
   "execution_count": 115,
   "metadata": {},
   "outputs": [],
   "source": [
    "knn_evalutae=KNeighborsClassifier(**kn_tuned.best_params_)"
   ]
  },
  {
   "cell_type": "code",
   "execution_count": 116,
   "metadata": {},
   "outputs": [
    {
     "data": {
      "text/plain": [
       "KNeighborsClassifier(leaf_size=10)"
      ]
     },
     "execution_count": 116,
     "metadata": {},
     "output_type": "execute_result"
    }
   ],
   "source": [
    "knn_evalutae.fit(X_train_selected,Y_train)"
   ]
  },
  {
   "cell_type": "code",
   "execution_count": 117,
   "metadata": {},
   "outputs": [
    {
     "data": {
      "text/plain": [
       "0.9626168224299065"
      ]
     },
     "execution_count": 117,
     "metadata": {},
     "output_type": "execute_result"
    }
   ],
   "source": [
    "knn_evalutae.score(X_train_selected, Y_train) #Train Score"
   ]
  },
  {
   "cell_type": "code",
   "execution_count": 118,
   "metadata": {},
   "outputs": [
    {
     "data": {
      "text/plain": [
       "0.8793103448275862"
      ]
     },
     "execution_count": 118,
     "metadata": {},
     "output_type": "execute_result"
    }
   ],
   "source": [
    "KNNTaccuracy=knn_evalutae.score(X_test_selected, Y_test) #Test Score\n",
    "KNNTaccuracy"
   ]
  },
  {
   "cell_type": "code",
   "execution_count": 119,
   "metadata": {},
   "outputs": [
    {
     "name": "stdout",
     "output_type": "stream",
     "text": [
      "              precision    recall  f1-score   support\n",
      "\n",
      "         0.0       0.97      0.85      0.91        41\n",
      "         1.0       0.73      0.94      0.82        17\n",
      "\n",
      "    accuracy                           0.88        58\n",
      "   macro avg       0.85      0.90      0.86        58\n",
      "weighted avg       0.90      0.88      0.88        58\n",
      "\n"
     ]
    }
   ],
   "source": [
    "from sklearn.metrics import classification_report\n",
    "y_pred=knn_evalutae.predict(X_test_selected)\n",
    "print(classification_report(Y_test, y_pred))"
   ]
  },
  {
   "cell_type": "markdown",
   "metadata": {},
   "source": [
    "## After Feature Selection"
   ]
  },
  {
   "cell_type": "code",
   "execution_count": 63,
   "metadata": {},
   "outputs": [
    {
     "data": {
      "text/plain": [
       "[(0.0, 100.0)]"
      ]
     },
     "execution_count": 63,
     "metadata": {},
     "output_type": "execute_result"
    },
    {
     "data": {
      "image/png": "[encoded data removed]",
      "text/plain": [
       "<Figure size 576x432 with 1 Axes>"
      ]
     },
     "metadata": {},
     "output_type": "display_data"
    }
   ],
   "source": [
    "plt.style.use(\"seaborn\")\n",
    "\n",
    "x = [\"Random Forest Classifier\",  \n",
    "     \"Support Vector Classifier\",\"KNeighbors Classifier \"]\n",
    "\n",
    "y = [RFTaccuracy*100, \n",
    "     SVCTaccuracy*100,\n",
    "     KNNTaccuracy*100,]\n",
    "\n",
    "fig, ax = plt.subplots(figsize=(8,6))\n",
    "sns.barplot(x=x,y=y, palette=\"crest\");\n",
    "plt.ylabel(\"Model Accuracy\")\n",
    "plt.title(\"Model Comparison - Model Accuracy\", fontsize=16, fontname=\"arial\", y=1);\n",
    "ax.set(ylim=(0, 100))"
   ]
  },
  {
   "cell_type": "code",
   "execution_count": 149,
   "metadata": {},
   "outputs": [],
   "source": [
    "from joblib import dump\n",
    "\n",
    "dump(rf_evalutaed, './Liver_cancer_RF.joblib')\n",
    "Y_test=Y_test.replace({0: 'Tumoral', 1: 'Normal'})\n",
    "pd.DataFrame(Y_test).to_csv('Liver_result',)\n",
    "pd.DataFrame(X_test_selected).to_csv('Liver_test',)\n"
   ]
  },
  {
   "cell_type": "code",
   "execution_count": null,
   "metadata": {},
   "outputs": [],
   "source": []
  },
  {
   "cell_type": "code",
   "execution_count": null,
   "metadata": {},
   "outputs": [],
   "source": []
  },
  {
   "cell_type": "code",
   "execution_count": 125,
   "metadata": {},
   "outputs": [
    {
     "name": "stdout",
     "output_type": "stream",
     "text": [
      "Selecting features with genetic algorithm.\n",
      "gen\tnevals\tavg                                        \tstd                                        \tmin                                  \tmax                                        \n",
      "0  \t60    \t[     0.961621  25753.266667      0.045783]\t[     0.003918  12671.250875      0.000254]\t[   0.943636  337.          0.045717]\t[     0.962727  46946.            0.047378]\n",
      "1  \t48    \t[     0.962561  12604.35          0.045745]\t[    0.00128   4342.078925     0.000213]   \t[    0.952727  7078.           0.045717]\t[     0.962727  34016.            0.047378]\n",
      "2  \t45    \t[    0.962409  8487.266667     0.045757]   \t[    0.001715  1182.631147     0.00023 ]   \t[    0.952727  7078.           0.045717]\t[     0.962727  11759.            0.047378]\n",
      "3  \t35    \t[    0.962409  7435.05         0.045724]   \t[   0.002444  662.083112    0.000054]      \t[    0.943636  7078.           0.045717]\t[    0.962727  9526.           0.04614 ]   \n",
      "4  \t35    \t[    0.962727  7444.55         0.045717]   \t[   0.        773.825851    0.      ]      \t[    0.962727  7078.           0.045717]\t[    0.962727  9155.           0.045717]   \n",
      "5  \t31    \t[    0.962727  7304.883333     0.045717]   \t[   0.        624.524275    0.      ]      \t[    0.962727  7078.           0.045717]\t[    0.962727  9084.           0.045717]   \n",
      "6  \t41    \t[    0.962727  7480.983333     0.045717]   \t[   0.        806.278085    0.      ]      \t[    0.962727  7078.           0.045717]\t[    0.962727  9173.           0.045717]   \n",
      "7  \t42    \t[    0.962727  7671.583333     0.045717]   \t[   0.        907.163037    0.      ]      \t[    0.962727  7078.           0.045717]\t[    0.962727  9149.           0.045717]   \n",
      "8  \t41    \t[    0.962727  7478.15         0.045717]   \t[   0.        800.369598    0.      ]      \t[    0.962727  7078.           0.045717]\t[    0.962727  9111.           0.045717]   \n",
      "9  \t49    \t[    0.962727  7472.233333     0.045717]   \t[   0.       788.77374    0.     ]         \t[    0.962727  7078.           0.045717]\t[    0.962727  9149.           0.045717]   \n",
      "10 \t45    \t[    0.962727  7445.383333     0.045717]   \t[   0.        775.576884    0.      ]      \t[    0.962727  7078.           0.045717]\t[    0.962727  9182.           0.045717]   \n",
      "11 \t41    \t[    0.962727  7412.85         0.045717]   \t[   0.       748.94116    0.     ]         \t[    0.962727  7078.           0.045717]\t[    0.962727  9139.           0.045717]   \n",
      "12 \t31    \t[    0.962727  7478.566667     0.045717]   \t[   0.        801.332814    0.      ]      \t[    0.962727  7078.           0.045717]\t[    0.962727  9163.           0.045717]   \n",
      "13 \t34    \t[    0.962727  7508.116667     0.045717]   \t[   0.        818.221101    0.      ]      \t[    0.962727  7078.           0.045717]\t[    0.962727  9149.           0.045717]   \n",
      "14 \t34    \t[    0.962727  7446.633333     0.045717]   \t[   0.       778.33157    0.     ]         \t[    0.962727  7078.           0.045717]\t[    0.962727  9198.           0.045717]   \n",
      "15 \t46    \t[    0.962727  7510.083333     0.045717]   \t[   0.        821.750941    0.      ]      \t[    0.962727  7078.           0.045717]\t[    0.962727  9135.           0.045717]   \n",
      "16 \t44    \t[    0.962727  7441.9          0.045717]   \t[   0.        768.221902    0.      ]      \t[    0.962727  7078.           0.045717]\t[    0.962727  9147.           0.045717]   \n",
      "17 \t46    \t[    0.962727  7507.           0.045717]   \t[   0.        815.968872    0.      ]      \t[    0.962727  7078.           0.045717]\t[    0.962727  9125.           0.045717]   \n",
      "18 \t42    \t[    0.962727  7441.05         0.045717]   \t[   0.        766.418781    0.      ]      \t[    0.962727  7078.           0.045717]\t[    0.962727  9137.           0.045717]   \n",
      "19 \t37    \t[    0.962727  7611.516667     0.045717]   \t[   0.        885.221526    0.      ]      \t[    0.962727  7078.           0.045717]\t[    0.962727  9167.           0.045717]   \n",
      "20 \t43    \t[    0.962727  7543.566667     0.045717]   \t[   0.        844.519831    0.      ]      \t[    0.962727  7078.           0.045717]\t[    0.962727  9159.           0.045717]   \n",
      "21 \t40    \t[    0.962727  7408.85         0.045717]   \t[   0.        740.043283    0.      ]      \t[    0.962727  7078.           0.045717]\t[    0.962727  9139.           0.045717]   \n",
      "22 \t41    \t[    0.962727  7542.366667     0.045717]   \t[   0.        842.187548    0.      ]      \t[    0.962727  7078.           0.045717]\t[    0.962727  9191.           0.045717]   \n",
      "23 \t39    \t[    0.962727  7507.3          0.045717]   \t[   0.       817.09433    0.     ]         \t[    0.962727  7078.           0.045717]\t[    0.962727  9255.           0.045717]   \n",
      "24 \t39    \t[    0.962727  7511.133333     0.045717]   \t[   0.        823.756588    0.      ]      \t[    0.962727  7078.           0.045717]\t[    0.962727  9122.           0.045717]   \n",
      "25 \t43    \t[    0.962727  7307.416667     0.045717]   \t[   0.        631.368257    0.      ]      \t[    0.962727  7078.           0.045717]\t[    0.962727  9088.           0.045717]   \n",
      "26 \t41    \t[    0.962727  7636.6          0.045717]   \t[   0.        889.012058    0.      ]      \t[    0.962727  7078.           0.045717]\t[    0.962727  9177.           0.045717]   \n",
      "27 \t37    \t[    0.962727  7472.7          0.045717]   \t[   0.        789.512387    0.      ]      \t[    0.962727  7078.           0.045717]\t[    0.962727  9094.           0.045717]   \n",
      "28 \t49    \t[    0.962727  7475.566667     0.045717]   \t[   0.       795.37472    0.     ]         \t[    0.962727  7078.           0.045717]\t[    0.962727  9150.           0.045717]   \n",
      "29 \t41    \t[    0.962576  7580.25         0.045729]   \t[   0.001164  870.096175    0.000092]      \t[    0.953636  7078.           0.045717]\t[    0.962727  9165.           0.046435]   \n",
      "30 \t42    \t[    0.962727  7443.266667     0.045717]   \t[   0.        771.195584    0.      ]      \t[    0.962727  7078.           0.045717]\t[    0.962727  9137.           0.045717]   \n",
      "31 \t37    \t[    0.962727  7509.65         0.045717]   \t[   0.       821.09794    0.     ]         \t[    0.962727  7078.           0.045717]\t[    0.962727  9145.           0.045717]   \n",
      "32 \t35    \t[    0.962727  7477.383333     0.045717]   \t[   0.        798.967127    0.      ]      \t[    0.962727  7078.           0.045717]\t[    0.962727  9156.           0.045717]   \n",
      "33 \t35    \t[    0.962727  7476.433333     0.045717]   \t[   0.       797.09975    0.     ]         \t[    0.962727  7078.           0.045717]\t[    0.962727  9116.           0.045717]   \n",
      "34 \t40    \t[    0.962727  7579.883333     0.045717]   \t[   0.        869.824026    0.      ]      \t[    0.962727  7078.           0.045717]\t[    0.962727  9205.           0.045717]   \n",
      "35 \t31    \t[    0.962727  7339.483333     0.045717]   \t[   0.        666.942064    0.      ]      \t[    0.962727  7078.           0.045717]\t[    0.962727  9124.           0.045717]   \n",
      "36 \t39    \t[    0.962727  7643.116667     0.045717]   \t[   0.        899.021247    0.      ]      \t[    0.962727  7078.           0.045717]\t[    0.962727  9127.           0.045717]   \n",
      "37 \t37    \t[    0.962727  7439.516667     0.045717]   \t[   0.        763.237174    0.      ]      \t[    0.962727  7078.           0.045717]\t[    0.962727  9121.           0.045717]   \n",
      "38 \t45    \t[    0.962727  7408.616667     0.045717]   \t[   0.        739.397572    0.      ]      \t[    0.962727  7078.           0.045717]\t[    0.962727  9121.           0.045717]   \n",
      "39 \t41    \t[    0.962727  7443.633333     0.045717]   \t[   0.       772.16736    0.     ]         \t[    0.962727  7078.           0.045717]\t[    0.962727  9209.           0.045717]   \n",
      "40 \t38    \t[    0.962727  7372.466667     0.045717]   \t[   0.        701.164875    0.      ]      \t[    0.962727  7078.           0.045717]\t[    0.962727  9080.           0.045717]   \n",
      "41 \t38    \t[    0.962727  7476.45         0.045717]   \t[   0.        797.168623    0.      ]      \t[    0.962727  7078.           0.045717]\t[    0.962727  9137.           0.045717]   \n",
      "42 \t32    \t[    0.962727  7440.15         0.045717]   \t[   0.        764.700678    0.      ]      \t[    0.962727  7078.           0.045717]\t[    0.962727  9183.           0.045717]   \n",
      "43 \t37    \t[    0.962727  7475.25         0.045717]   \t[   0.       794.70155    0.     ]         \t[    0.962727  7078.           0.045717]\t[    0.962727  9154.           0.045717]   \n"
     ]
    },
    {
     "name": "stdout",
     "output_type": "stream",
     "text": [
      "44 \t41    \t[    0.962727  7478.383333     0.045717]   \t[   0.        801.165382    0.      ]      \t[    0.962727  7078.           0.045717]\t[    0.962727  9175.           0.045717]   \n",
      "45 \t41    \t[    0.962727  7407.85         0.045717]   \t[   0.        737.807107    0.      ]      \t[    0.962727  7078.           0.045717]\t[    0.962727  9148.           0.045717]   \n",
      "46 \t39    \t[    0.962727  7471.85         0.045717]   \t[   0.        788.200013    0.      ]      \t[    0.962727  7078.           0.045717]\t[    0.962727  9161.           0.045717]   \n",
      "47 \t34    \t[    0.962727  7443.1          0.045717]   \t[   0.        770.916591    0.      ]      \t[    0.962727  7078.           0.045717]\t[    0.962727  9163.           0.045717]   \n",
      "48 \t40    \t[    0.962727  7508.466667     0.045717]   \t[   0.        818.914983    0.      ]      \t[    0.962727  7078.           0.045717]\t[    0.962727  9154.           0.045717]   \n",
      "49 \t42    \t[    0.962727  7375.65         0.045717]   \t[   0.        708.918115    0.      ]      \t[    0.962727  7078.           0.045717]\t[    0.962727  9189.           0.045717]   \n",
      "50 \t36    \t[    0.962727  7274.25         0.045717]   \t[   0.        588.776885    0.      ]      \t[    0.962727  7078.           0.045717]\t[    0.962727  9062.           0.045717]   \n"
     ]
    }
   ],
   "source": [
    "from genetic_selection import GeneticSelectionCV\n",
    "\n",
    "selectors = GeneticSelectionCV(svc_evalutaed,\n",
    "                               cv=kfold,\n",
    "                               verbose=1,\n",
    "                               scoring='accuracy',\n",
    "                               n_population=60,\n",
    "                               crossover_proba=0.60,\n",
    "                               mutation_proba=0.2,\n",
    "                               n_generations=50,\n",
    "                               crossover_independent_proba=0.6,\n",
    "                               mutation_independent_proba=0.06,\n",
    "                               tournament_size=8,\n",
    "                               caching=True,\n",
    "                               n_jobs=4)\n",
    "selectors = selectors.fit(X_train, Y_train)\n"
   ]
  },
  {
   "cell_type": "code",
   "execution_count": 126,
   "metadata": {},
   "outputs": [
    {
     "name": "stdout",
     "output_type": "stream",
     "text": [
      "Feature Selection: Index(['ILMN_2383229', 'ILMN_3241953', 'ILMN_2295559', 'ILMN_1675204',\n",
      "       'ILMN_1752884', 'ILMN_1668851', 'ILMN_1880387', 'ILMN_1698189',\n",
      "       'ILMN_1670117', 'ILMN_1758523',\n",
      "       ...\n",
      "       'ILMN_1668540', 'ILMN_1692486', 'ILMN_1769503', 'ILMN_3247732',\n",
      "       'ILMN_1789410', 'ILMN_1725718', 'ILMN_3244172', 'ILMN_1777061',\n",
      "       'ILMN_2374633', 'ILMN_1653209'],\n",
      "      dtype='object', length=7078)\n"
     ]
    }
   ],
   "source": [
    "print('Feature Selection:', X_train.columns[selectors.support_])"
   ]
  },
  {
   "cell_type": "code",
   "execution_count": 127,
   "metadata": {},
   "outputs": [
    {
     "data": {
      "text/plain": [
       "0.9626168224299065"
      ]
     },
     "execution_count": 127,
     "metadata": {},
     "output_type": "execute_result"
    }
   ],
   "source": [
    "selectors.score(X_train, Y_train) #Train Score"
   ]
  },
  {
   "cell_type": "code",
   "execution_count": 128,
   "metadata": {},
   "outputs": [
    {
     "data": {
      "text/plain": [
       "0.9310344827586207"
      ]
     },
     "execution_count": 128,
     "metadata": {},
     "output_type": "execute_result"
    }
   ],
   "source": [
    "selectors.score(X_test, Y_test) #Test Score"
   ]
  },
  {
   "cell_type": "code",
   "execution_count": 129,
   "metadata": {},
   "outputs": [
    {
     "name": "stdout",
     "output_type": "stream",
     "text": [
      "[[38  3]\n",
      " [ 1 16]]\n",
      "              precision    recall  f1-score   support\n",
      "\n",
      "         0.0       0.97      0.93      0.95        41\n",
      "         1.0       0.84      0.94      0.89        17\n",
      "\n",
      "    accuracy                           0.93        58\n",
      "   macro avg       0.91      0.93      0.92        58\n",
      "weighted avg       0.94      0.93      0.93        58\n",
      "\n"
     ]
    }
   ],
   "source": [
    "from sklearn.metrics import classification_report\n",
    "y_pred=selectors.predict(X_test)\n",
    "print(confusion_matrix(Y_test, y_pred))\n",
    "print(classification_report(Y_test, y_pred))"
   ]
  },
  {
   "cell_type": "code",
   "execution_count": null,
   "metadata": {},
   "outputs": [],
   "source": []
  }
 ],
 "metadata": {
  "colab": {
   "collapsed_sections": [],
   "name": "finalProject.ipynb",
   "provenance": []
  },
  "kernelspec": {
   "display_name": "Python 3 (ipykernel)",
   "language": "python",
   "name": "python3"
  },
  "language_info": {
   "codemirror_mode": {
    "name": "ipython",
    "version": 3
   },
   "file_extension": ".py",
   "mimetype": "text/x-python",
   "name": "python",
   "nbconvert_exporter": "python",
   "pygments_lexer": "ipython3",
   "version": "3.9.7"
  }
 },
 "nbformat": 4,
 "nbformat_minor": 1
}
